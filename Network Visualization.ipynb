{
 "cells": [
  {
   "cell_type": "markdown",
   "metadata": {},
   "source": [
    "# Network Visualization\n",
    "\n",
    "[Alex Hanna](http://alex-hanna.com), University of Toronto/Google\n",
    "\n",
    "*NB: A good deal of this is adapted from [Katya Ognyanova's polnet tutorial on network visualization](http://kateto.net/network-visualization). This is, by far, the best treatment of this I've seen anywhere. Check it out.*"
   ]
  },
  {
   "cell_type": "code",
   "execution_count": null,
   "metadata": {},
   "outputs": [],
   "source": []
  }
 ],
 "metadata": {
  "kernelspec": {
   "display_name": "R",
   "language": "R",
   "name": "ir"
  },
  "language_info": {
   "codemirror_mode": "r",
   "file_extension": ".r",
   "mimetype": "text/x-r-source",
   "name": "R",
   "pygments_lexer": "r",
   "version": "3.3.3"
  }
 },
 "nbformat": 4,
 "nbformat_minor": 2
}
