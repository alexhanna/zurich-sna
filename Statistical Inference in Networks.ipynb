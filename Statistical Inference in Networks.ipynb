{
 "cells": [
  {
   "cell_type": "markdown",
   "metadata": {},
   "source": [
    "# Statistical Inference in Networks\n",
    "\n",
    "[Alex Hanna](http://alex-hanna.com), University of Toronto/Google\n",
    "\n",
    "In this module, we're going to focus on statistical inference in networks, namely, on a type of modeling known as the **Exponential Random Graph Models**, or ERGMs. Our learning objective for this section is the following:\n",
    "\n",
    "- Motivate the use of ERGMs\n",
    "- Introduce the `statnet` and `network` packages\n",
    "- Build an ERGM progressively, term-by-term"
   ]
  },
  {
   "cell_type": "markdown",
   "metadata": {},
   "source": [
    "Unlike the previous modules in this workshop, I am going to rely on the Benjamin Lind's [excellent ERGM tutorial based on the Grey's Anatomy hookup network](http://badhessian.org/2012/09/lessons-on-exponential-random-graph-modeling-from-greys-anatomy-hook-ups/). After the introductories, we'll head over there and continue the tutorial. As such, there are no exercises like in the previous tutorials, but a future incarnation of this module may involve that."
   ]
  },
  {
   "cell_type": "markdown",
   "metadata": {},
   "source": [
    "I should add the caveat that I'm generally adverse to using sexualized datasets like this, since they typically have a very heteronormative and cisgender bend to them (only [queer datasets](http://badhessian.org/2013/03/lipsyncing-for-your-life-a-survival-analysis-of-rupauls-drag-race/), please). But this tutorial is one of the clearest I think I've seen on ERGMs and the data are pretty interesting, both structurally and in terms of the node attributes."
   ]
  },
  {
   "cell_type": "markdown",
   "metadata": {},
   "source": [
    "## Motivating ERGMs\n",
    "\n",
    "So far in this workshop, we've mostly been *describing* the various contours of existing networks, either quantitatively or visually. So why would we want to use statistical inference to understand a network? Primarily, we want to try *to explain and predict tie formation*. We do this to understand the processes which made the network what it is. We predict tie formation based on two classes of variables: node attributes (e.g. gender, age, status) or some network structure (e.g. triangles, number of surrounding edges). \n",
    "\n",
    "Another cool thing about ERGMs is that we can use an ERGM as a generative model. That is, we can simulate new networks based on the estimated parameters from the model."
   ]
  },
  {
   "cell_type": "markdown",
   "metadata": {},
   "source": [
    "## Introduction `statnet` and `network`\n",
    "\n",
    "To use ERGMs, we need to use some new underlying packages -- `statnet` and `network`. `statnet` is the underlying machinery for the ERGM. It implements the ERGM parameter estimation with Monte Carlo Markov Chains (MCMC). \n",
    "\n",
    "`network` is a network package created by the mathematical sociologist Carter T. Butts at the University of California-Irvine. `network` has its own descriptive and visualization capabilities. The syntax for accessing vertex and edge attributes is similar but different from `igraph`. The visualizations ultimately look more or less similar."
   ]
  },
  {
   "cell_type": "markdown",
   "metadata": {},
   "source": [
    "Let's start off by unloading the `igraph` package, then installing and loading the `ergm` package. Loading `ergm` will also load `statnet` and `network`."
   ]
  },
  {
   "cell_type": "code",
   "execution_count": null,
   "metadata": {},
   "outputs": [],
   "source": [
    "## unload igraph to avoid any namespace collisions\n",
    "detach(\"package:igraph\")\n",
    "\n",
    "## install and load ergm, which will load statnet and network\n",
    "install.packages(\"ergm\")\n",
    "library(ergm)"
   ]
  },
  {
   "cell_type": "markdown",
   "metadata": {},
   "source": [
    "## Loading Grey's Anatomy data\n",
    "\n",
    "The links to the data are broken on the Bad Hessian site, so you can use the following lines to load them (if you downloaded the repository earlier, you'll have to download it again to get the new data files."
   ]
  },
  {
   "cell_type": "markdown",
   "metadata": {},
   "source": [
    "There are two files. The first is the network edges in the form of an adjacency matrix (also called a sociomatrix, if you're very old school). The second are attributes related to the nodes themselves."
   ]
  },
  {
   "cell_type": "code",
   "execution_count": 1,
   "metadata": {},
   "outputs": [],
   "source": [
    "## load the edges in the form of an adjacency matrix\n",
    "ga.matrix <- read.table(\"data/Grey's Anatomy - sociomat.tsv\", sep = \"\\t\", quote = \"\\\"\", header = T, row.names = 1)\n",
    "ga.matrix <- as.matrix(ga.matrix)"
   ]
  },
  {
   "cell_type": "code",
   "execution_count": 2,
   "metadata": {},
   "outputs": [],
   "source": [
    "## load the node attributes\n",
    "ga.attributes <- read.table(\"data/Grey's Anatomy - attributes.tsv\",\n",
    "    sep = \"\\t\", header = T, quote = \"\\\"\", \n",
    "    stringsAsFactors = F, strip.white = T, as.is = T)"
   ]
  },
  {
   "cell_type": "code",
   "execution_count": null,
   "metadata": {},
   "outputs": [],
   "source": [
    "## create the network using `network`\n",
    "ga.net <- network(ga.matrix, vertex.attr=ga.attributes, vertex.attrnames=colnames(ga.attributes),\n",
    "                directed=F, hyper=F, loops=F, multiple=F, bipartite=F)"
   ]
  },
  {
   "cell_type": "markdown",
   "metadata": {},
   "source": [
    "From there, I'll let Ben take over. Let's [go over there](http://badhessian.org/2012/09/lessons-on-exponential-random-graph-modeling-from-greys-anatomy-hook-ups/) and work through the tutorial."
   ]
  }
 ],
 "metadata": {
  "kernelspec": {
   "display_name": "R",
   "language": "R",
   "name": "ir"
  },
  "language_info": {
   "codemirror_mode": "r",
   "file_extension": ".r",
   "mimetype": "text/x-r-source",
   "name": "R",
   "pygments_lexer": "r",
   "version": "3.3.3"
  }
 },
 "nbformat": 4,
 "nbformat_minor": 2
}
